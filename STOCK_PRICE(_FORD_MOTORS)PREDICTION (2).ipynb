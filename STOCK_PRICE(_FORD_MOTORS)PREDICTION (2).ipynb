{
  "nbformat": 4,
  "nbformat_minor": 0,
  "metadata": {
    "colab": {
      "name": "STOCK PRICE( FORD MOTORS)PREDICTION",
      "provenance": [],
      "collapsed_sections": []
    },
    "kernelspec": {
      "name": "python3",
      "display_name": "Python 3"
    },
    "language_info": {
      "name": "python"
    }
  },
  "cells": [
    {
      "cell_type": "markdown",
      "metadata": {
        "id": "ipogoitaYrpJ"
      },
      "source": [
        "**AIM:FORD MOTORS STOCK PRICE PREDICTION**\n"
      ]
    },
    {
      "cell_type": "markdown",
      "metadata": {
        "id": "jMamKwkUYnqj"
      },
      "source": [
        "**import libraries**"
      ]
    },
    {
      "cell_type": "code",
      "metadata": {
        "id": "2GC1JA_tJ6FN"
      },
      "source": [
        "import numpy as np\n",
        "import matplotlib.pyplot as plt\n",
        "import pandas as pd\n",
        "import datetime as dt\n",
        "from matplotlib import pyplot as plt\n",
        "from sklearn import model_selection\n",
        "from sklearn.metrics import confusion_matrix\n",
        "from sklearn.preprocessing import StandardScaler\n",
        "from sklearn.model_selection import train_test_split\n",
        "import numpy as np\n",
        "import pandas as pd\n",
        "from sklearn.preprocessing import MinMaxScaler\n",
        "from keras.models import Sequential\n",
        "from keras.layers import Dense\n",
        "from keras.layers import LSTM\n",
        "from keras.layers import Dropout\n",
        "import pandas_datareader as pdr\n",
        "key=\"82cddcd0b39a35ff5d26792909159181d391e013\""
      ],
      "execution_count": null,
      "outputs": []
    },
    {
      "cell_type": "markdown",
      "metadata": {
        "id": "O8RA7z_dZMFU"
      },
      "source": [
        "**Load data**\n",
        "\n",
        "Start date and end date to get the data"
      ]
    },
    {
      "cell_type": "code",
      "metadata": {
        "id": "rvR4eCzML40A"
      },
      "source": [
        "start = dt.datetime(2013,1,1)\n",
        "end = dt.datetime(2018,12,31)\n",
        "df = pdr.get_data_tiingo('F', api_key=key,start=start,end=end)"
      ],
      "execution_count": null,
      "outputs": []
    },
    {
      "cell_type": "code",
      "metadata": {
        "id": "ZkoKA9jolovX"
      },
      "source": [
        "#get train data\n",
        "train = df.iloc[:, 1:2].values"
      ],
      "execution_count": null,
      "outputs": []
    },
    {
      "cell_type": "code",
      "metadata": {
        "id": "AFeef5ayl98T"
      },
      "source": [
        "#apply min-max sc\n",
        "sc = MinMaxScaler(feature_range = (0, 1))\n",
        "train_scaled = sc.fit_transform(train)"
      ],
      "execution_count": null,
      "outputs": []
    },
    {
      "cell_type": "markdown",
      "metadata": {
        "id": "bfS8sDFtbLaG"
      },
      "source": [
        "**Creating Data with Timestamps**\n",
        " \n",
        "LSTMs expect our data to be in a specific format, usually a 3D array. We start by creating data in 100 timesteps and converting it into an array using NumPy. Next, we convert the data into a 3D dimension array with X_train samples, 100 timestamps, and one feature at each step(KD NUGGET)"
      ]
    },
    {
      "cell_type": "code",
      "metadata": {
        "id": "qUbhNSHsmsCF"
      },
      "source": [
        "X = []\n",
        "y = []\n",
        "for i in range(100, 1482):\n",
        "    X.append(train_scaled[i-100:i, 0])\n",
        "    y.append(train_scaled[i, 0])\n",
        "X_train, y_train = np.array(X_train), np.array(y_train)\n",
        "X_train = np.reshape(X_train, (X_train.shape[0], X_train.shape[1], 1))"
      ],
      "execution_count": null,
      "outputs": []
    },
    {
      "cell_type": "markdown",
      "metadata": {
        "id": "v_sEzPqhbnom"
      },
      "source": [
        "**LSTM Model**"
      ]
    },
    {
      "cell_type": "code",
      "metadata": {
        "colab": {
          "base_uri": "https://localhost:8080/"
        },
        "id": "NC4YLTDsm07d",
        "outputId": "96cdb31e-549a-4a29-8362-1844c0c1aa64"
      },
      "source": [
        "model=Sequential()\n",
        "model.add(LSTM(50,return_sequences=True,input_shape=(100,1)))\n",
        "model.add(LSTM(50,return_sequences=True))\n",
        "model.add(LSTM(50))\n",
        "model.add(Dense(1))\n",
        "model.compile(loss='mean_squared_error',optimizer='adam')\n",
        "model.summary()\n",
        "\n",
        "model.fit(X_train, y_train, epochs = 10, batch_size = 32)"
      ],
      "execution_count": null,
      "outputs": [
        {
          "output_type": "stream",
          "text": [
            "Model: \"sequential_3\"\n",
            "_________________________________________________________________\n",
            "Layer (type)                 Output Shape              Param #   \n",
            "=================================================================\n",
            "lstm_12 (LSTM)               (None, 100, 50)           10400     \n",
            "_________________________________________________________________\n",
            "lstm_13 (LSTM)               (None, 100, 50)           20200     \n",
            "_________________________________________________________________\n",
            "lstm_14 (LSTM)               (None, 50)                20200     \n",
            "_________________________________________________________________\n",
            "dense_3 (Dense)              (None, 1)                 51        \n",
            "=================================================================\n",
            "Total params: 50,851\n",
            "Trainable params: 50,851\n",
            "Non-trainable params: 0\n",
            "_________________________________________________________________\n",
            "Epoch 1/10\n",
            "44/44 [==============================] - 11s 134ms/step - loss: 0.1055\n",
            "Epoch 2/10\n",
            "44/44 [==============================] - 6s 138ms/step - loss: 0.0047\n",
            "Epoch 3/10\n",
            "44/44 [==============================] - 6s 138ms/step - loss: 0.0030\n",
            "Epoch 4/10\n",
            "44/44 [==============================] - 6s 139ms/step - loss: 0.0031\n",
            "Epoch 5/10\n",
            "44/44 [==============================] - 6s 138ms/step - loss: 0.0026\n",
            "Epoch 6/10\n",
            "44/44 [==============================] - 6s 140ms/step - loss: 0.0025\n",
            "Epoch 7/10\n",
            "44/44 [==============================] - 6s 138ms/step - loss: 0.0024\n",
            "Epoch 8/10\n",
            "44/44 [==============================] - 6s 140ms/step - loss: 0.0025\n",
            "Epoch 9/10\n",
            "44/44 [==============================] - 6s 138ms/step - loss: 0.0022\n",
            "Epoch 10/10\n",
            "44/44 [==============================] - 6s 139ms/step - loss: 0.0023\n"
          ],
          "name": "stdout"
        },
        {
          "output_type": "execute_result",
          "data": {
            "text/plain": [
              "<tensorflow.python.keras.callbacks.History at 0x7fae317565d0>"
            ]
          },
          "metadata": {
            "tags": []
          },
          "execution_count": 92
        }
      ]
    },
    {
      "cell_type": "markdown",
      "metadata": {
        "id": "a76qcctooYGK"
      },
      "source": [
        "**Prediction with test data**"
      ]
    },
    {
      "cell_type": "code",
      "metadata": {
        "id": "e58TzXEyn-2Z"
      },
      "source": [
        "#get the test data\n",
        "start = dt.datetime(2018,12,31)\n",
        "end = dt.datetime(2020,12,31)\n",
        "test = pdr.get_data_tiingo('F', api_key=key,start=start,end=end)"
      ],
      "execution_count": null,
      "outputs": []
    },
    {
      "cell_type": "code",
      "metadata": {
        "id": "Bhl0B0IGoC-W"
      },
      "source": [
        "#get the high\n",
        "y_test = test.iloc[:, 1].values"
      ],
      "execution_count": null,
      "outputs": []
    },
    {
      "cell_type": "code",
      "metadata": {
        "colab": {
          "base_uri": "https://localhost:8080/"
        },
        "id": "rh4UjxaacPgf",
        "outputId": "f7e6343b-ebd4-4453-ca09-c1b2c75064f6"
      },
      "source": [
        "print(y_test[0])"
      ],
      "execution_count": null,
      "outputs": [
        {
          "output_type": "stream",
          "text": [
            "7.86\n"
          ],
          "name": "stdout"
        }
      ]
    },
    {
      "cell_type": "code",
      "metadata": {
        "colab": {
          "base_uri": "https://localhost:8080/"
        },
        "id": "tEdMQqe8w0N2",
        "outputId": "b3e8d053-ec3c-4234-cddb-a2b1ed73483c"
      },
      "source": [
        "len(test)"
      ],
      "execution_count": null,
      "outputs": [
        {
          "output_type": "execute_result",
          "data": {
            "text/plain": [
              "506"
            ]
          },
          "metadata": {
            "tags": []
          },
          "execution_count": 112
        }
      ]
    },
    {
      "cell_type": "code",
      "metadata": {
        "id": "ie6iyI1HoJ5R"
      },
      "source": [
        "#prepare the test data the same way we prepared the train data and make prediction\n",
        "dataset_total = pd.concat((df['open'], test['open']), axis = 0)\n",
        "inputs = dataset_total[len(dataset_total) - len(test) - 100:].values\n",
        "inputs = inputs.reshape(-1,1)\n",
        "inputs = sc.transform(inputs)\n",
        "X_test = []\n",
        "for i in range(100, 606):\n",
        "    X_test.append(inputs[i-100:i, 0])\n",
        "X_test = np.array(X_test)\n",
        "X_test = np.reshape(X_test, (X_test.shape[0], X_test.shape[1], 1))\n",
        "predicted_stock_price = regressor.predict(X_test)\n",
        "predicted_stock_price = sc.inverse_transform(predicted_stock_price)"
      ],
      "execution_count": null,
      "outputs": []
    },
    {
      "cell_type": "code",
      "metadata": {
        "colab": {
          "base_uri": "https://localhost:8080/",
          "height": 404
        },
        "id": "fTuEBoztnrA8",
        "outputId": "42ae9d71-bcca-481c-f1b0-47d9fba8635f"
      },
      "source": [
        "plt.figure(figsize=(10,6))\n",
        "plt.plot(y_test, color = 'black', label = 'Ford Motors Stock Price')\n",
        "plt.plot(predicted_stock_price, color = 'red', label = 'Ford Motors Predicted Stock Price')\n",
        "plt.title('Ford Motors Price Prediction')\n",
        "plt.xlabel('Time')\n",
        "plt.ylabel('Ford Motorsk Price')\n",
        "plt.legend()\n",
        "plt.show()"
      ],
      "execution_count": null,
      "outputs": [
        {
          "output_type": "display_data",
          "data": {
            "image/png": "[encoded data removed]",
            "text/plain": [
              "<Figure size 720x432 with 1 Axes>"
            ]
          },
          "metadata": {
            "tags": [],
            "needs_background": "light"
          }
        }
      ]
    },
    {
      "cell_type": "code",
      "metadata": {
        "colab": {
          "base_uri": "https://localhost:8080/"
        },
        "id": "3_nekKp4mSGm",
        "outputId": "b97730c0-6010-4f19-aafa-25b33174e787"
      },
      "source": [
        "len(predicted_stock_price),len(y_test)"
      ],
      "execution_count": null,
      "outputs": [
        {
          "output_type": "execute_result",
          "data": {
            "text/plain": [
              "(506, 506)"
            ]
          },
          "metadata": {
            "tags": []
          },
          "execution_count": 129
        }
      ]
    },
    {
      "cell_type": "code",
      "metadata": {
        "colab": {
          "base_uri": "https://localhost:8080/"
        },
        "id": "jcBqYHMwtXed",
        "outputId": "8e1d457e-d407-4993-a9b3-bed34315a16e"
      },
      "source": [
        "x = X_test[-1]\n",
        "print(len(x))"
      ],
      "execution_count": null,
      "outputs": [
        {
          "output_type": "stream",
          "text": [
            "100\n"
          ],
          "name": "stdout"
        }
      ]
    },
    {
      "cell_type": "code",
      "metadata": {
        "colab": {
          "base_uri": "https://localhost:8080/"
        },
        "id": "JxHqOpir7jir",
        "outputId": "ee5cf99d-4910-4f82-e430-d7cef61d3e86"
      },
      "source": [
        "#make prediction for next 30 days\n",
        "x = X_test[-1]\n",
        "num_timesteps = 130\n",
        "preds = []\n",
        "for i in range(num_timesteps):\n",
        "    data = np.expand_dims(x, axis=0)\n",
        "    prediction = regressor.predict(data)\n",
        "    prediction = sc.inverse_transform(prediction)\n",
        "    preds.append(prediction[0][0])\n",
        "    x = np.delete(x, 0, axis=0) # delete first row\n",
        "    x = np.vstack([x, prediction]) # add prediction\n",
        "\n",
        "print(preds[-30:])"
      ],
      "execution_count": null,
      "outputs": [
        {
          "output_type": "stream",
          "text": [
            "[29.77165, 29.766588, 29.759441, 29.749819, 29.738523, 29.727854, 29.719706, 29.714245, 29.710796, 29.708645, 29.707298, 29.706469, 29.705948, 29.70563, 29.705435, 29.705318, 29.705252, 29.705214, 29.705189, 29.705172, 29.705156, 29.705147, 29.70513, 29.705107, 29.705086, 29.705063, 29.70505, 29.705025, 29.705004, 29.70498]\n"
          ],
          "name": "stdout"
        }
      ]
    },
    {
      "cell_type": "code",
      "metadata": {
        "id": "mqeBjsgYBW5T"
      },
      "source": [
        ""
      ],
      "execution_count": null,
      "outputs": []
    }
  ]
}